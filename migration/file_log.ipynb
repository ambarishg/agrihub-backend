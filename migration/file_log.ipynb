{
 "cells": [
  {
   "cell_type": "code",
   "execution_count": 1,
   "metadata": {},
   "outputs": [],
   "source": [
    "import sys\n",
    "sys.path.append(\"../\")"
   ]
  },
  {
   "cell_type": "code",
   "execution_count": 2,
   "metadata": {},
   "outputs": [],
   "source": [
    "from db.sqlite.sqlitehelper import SQLiteDatabaseHelper"
   ]
  },
  {
   "cell_type": "code",
   "execution_count": 3,
   "metadata": {},
   "outputs": [],
   "source": [
    "db = SQLiteDatabaseHelper(database_file=\"../bees.db\")"
   ]
  },
  {
   "cell_type": "code",
   "execution_count": 4,
   "metadata": {},
   "outputs": [],
   "source": [
    "SQL_QUERY = \"\"\"\n",
    "SELECT \n",
    "    FILE_NAME,\n",
    "    FILE_STATUS,\n",
    "    ANNOTATED_FILE_PATH,\n",
    "    RESULTS_FILE_PATH,\n",
    "    USER_NAME,\n",
    "    CREATED_BY,\n",
    "    CREATED_AT,\n",
    "    UPDATED_BY,\n",
    "    UPDATED_AT,\n",
    "    FILE_DESCRIPTION,\n",
    "    LOCATION,\n",
    "    FILE_ID\n",
    "FROM\n",
    "FILE_LOG\n",
    "\"\"\""
   ]
  },
  {
   "cell_type": "code",
   "execution_count": null,
   "metadata": {},
   "outputs": [],
   "source": [
    "db.connect()\n",
    "records = db.fetch_all(SQL_QUERY)\n",
    "db.close_connection()"
   ]
  },
  {
   "cell_type": "code",
   "execution_count": null,
   "metadata": {},
   "outputs": [],
   "source": [
    "records"
   ]
  },
  {
   "cell_type": "code",
   "execution_count": 7,
   "metadata": {},
   "outputs": [],
   "source": [
    "INSERT_QUERY=\"\"\" \n",
    "        INSERT INTO FILE_LOG\n",
    "        (\n",
    "        FILE_NAME,\n",
    "        FILE_STATUS,\n",
    "        ANNOTATED_FILE_PATH,\n",
    "        RESULTS_FILE_PATH,\n",
    "        USER_NAME,\n",
    "        CREATED_BY,\n",
    "        CREATED_AT,\n",
    "        UPDATED_BY,\n",
    "        UPDATED_AT,\n",
    "        FILE_DESCRIPTION,\n",
    "        LOCATION,\n",
    "        FILE_ID\n",
    "        )\n",
    "        VALUES (%s,%s,%s,%s,%s,%s,%s,%s,%s,%s,%s,%s)\n",
    "        \"\"\""
   ]
  },
  {
   "cell_type": "code",
   "execution_count": null,
   "metadata": {},
   "outputs": [],
   "source": [
    "from db.mysql.mysqlhelper import MySQLHelper\n",
    "from config.configs import CONFIGS\n",
    "db = MySQLHelper(host = CONFIGS.HOST,user = CONFIGS.USERNAME_MYSQL,\n",
    "                 password = CONFIGS.PASSWORD,database = \"BEES\")"
   ]
  },
  {
   "cell_type": "code",
   "execution_count": null,
   "metadata": {},
   "outputs": [],
   "source": [
    "CONFIGS.HOST,CONFIGS.USERNAME_MYSQL"
   ]
  },
  {
   "cell_type": "code",
   "execution_count": null,
   "metadata": {},
   "outputs": [],
   "source": [
    "for record in records:\n",
    "    data = (record[0],\n",
    "        record[1],\n",
    "        record[2],\n",
    "       record[3],\n",
    "       record[4],\n",
    "       record[5],\n",
    "       record[6],\n",
    "       record[7],\n",
    "       record[8],\n",
    "       record[9],\n",
    "       record[10],\n",
    "       record[11]\n",
    "        )\n",
    "    print(record)"
   ]
  },
  {
   "cell_type": "code",
   "execution_count": null,
   "metadata": {},
   "outputs": [],
   "source": [
    "db.connect()"
   ]
  },
  {
   "cell_type": "code",
   "execution_count": 12,
   "metadata": {},
   "outputs": [],
   "source": [
    "for record in records:\n",
    "   data = (record[0],\n",
    "        record[1],\n",
    "        record[2],\n",
    "       record[3],\n",
    "       record[4],\n",
    "       record[5],\n",
    "       record[6],\n",
    "       record[7],\n",
    "       record[8],\n",
    "       record[9],\n",
    "       record[10],\n",
    "       record[11]\n",
    "        )\n",
    "   records = db.execute_query(INSERT_QUERY,data)\n",
    "   "
   ]
  },
  {
   "cell_type": "code",
   "execution_count": null,
   "metadata": {},
   "outputs": [],
   "source": [
    "db.close_connection()"
   ]
  },
  {
   "cell_type": "code",
   "execution_count": null,
   "metadata": {},
   "outputs": [],
   "source": []
  }
 ],
 "metadata": {
  "kernelspec": {
   "display_name": ".venv",
   "language": "python",
   "name": "python3"
  },
  "language_info": {
   "codemirror_mode": {
    "name": "ipython",
    "version": 3
   },
   "file_extension": ".py",
   "mimetype": "text/x-python",
   "name": "python",
   "nbconvert_exporter": "python",
   "pygments_lexer": "ipython3",
   "version": "3.11.6"
  }
 },
 "nbformat": 4,
 "nbformat_minor": 2
}
