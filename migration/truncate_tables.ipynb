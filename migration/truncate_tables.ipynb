{
 "cells": [
  {
   "cell_type": "code",
   "execution_count": 14,
   "metadata": {},
   "outputs": [],
   "source": [
    "import sys\n",
    "sys.path.append(\"../\")"
   ]
  },
  {
   "cell_type": "code",
   "execution_count": 15,
   "metadata": {},
   "outputs": [],
   "source": [
    "from db.mysql.mysqlhelper import MySQLHelper\n",
    "from config.configs import CONFIGS\n",
    "db = MySQLHelper(host = CONFIGS.HOST,user = CONFIGS.USERNAME_MYSQL,\n",
    "                 password = CONFIGS.PASSWORD,database = \"BEES\")"
   ]
  },
  {
   "cell_type": "code",
   "execution_count": 16,
   "metadata": {},
   "outputs": [
    {
     "data": {
      "text/plain": [
       "('localhost', 'root')"
      ]
     },
     "execution_count": 16,
     "metadata": {},
     "output_type": "execute_result"
    }
   ],
   "source": [
    "CONFIGS.HOST,CONFIGS.USERNAME_MYSQL"
   ]
  },
  {
   "cell_type": "code",
   "execution_count": 17,
   "metadata": {},
   "outputs": [
    {
     "name": "stdout",
     "output_type": "stream",
     "text": [
      "Connected to MySQL database\n",
      "MySQL connection is closed\n"
     ]
    }
   ],
   "source": [
    "db.connect()\n",
    "TRUNCATE_QUERY = \"\"\" \n",
    "TRUNCATE TABLE FILE_LOG\n",
    "\"\"\"\n",
    "db.execute_query(TRUNCATE_QUERY)\n",
    "db.close_connection()"
   ]
  },
  {
   "cell_type": "code",
   "execution_count": 18,
   "metadata": {},
   "outputs": [
    {
     "name": "stdout",
     "output_type": "stream",
     "text": [
      "Connected to MySQL database\n",
      "MySQL connection is closed\n"
     ]
    }
   ],
   "source": [
    "db.connect()\n",
    "TRUNCATE_QUERY = \"\"\" \n",
    "TRUNCATE TABLE USERS\n",
    "\"\"\"\n",
    "db.execute_query(TRUNCATE_QUERY)\n",
    "db.close_connection()"
   ]
  },
  {
   "cell_type": "code",
   "execution_count": 19,
   "metadata": {},
   "outputs": [
    {
     "name": "stdout",
     "output_type": "stream",
     "text": [
      "Connected to MySQL database\n",
      "MySQL connection is closed\n"
     ]
    }
   ],
   "source": [
    "db.connect()\n",
    "TRUNCATE_QUERY = \"\"\" \n",
    "TRUNCATE TABLE USERS_ROLE\n",
    "\"\"\"\n",
    "db.execute_query(TRUNCATE_QUERY)\n",
    "db.close_connection()"
   ]
  },
  {
   "cell_type": "code",
   "execution_count": 20,
   "metadata": {},
   "outputs": [
    {
     "name": "stdout",
     "output_type": "stream",
     "text": [
      "Connected to MySQL database\n",
      "MySQL connection is closed\n"
     ]
    }
   ],
   "source": [
    "db.connect()\n",
    "TRUNCATE_QUERY = \"\"\" \n",
    "TRUNCATE TABLE USERS_LOCATION\n",
    "\"\"\"\n",
    "db.execute_query(TRUNCATE_QUERY)\n",
    "db.close_connection()"
   ]
  }
 ],
 "metadata": {
  "kernelspec": {
   "display_name": ".venv",
   "language": "python",
   "name": "python3"
  },
  "language_info": {
   "codemirror_mode": {
    "name": "ipython",
    "version": 3
   },
   "file_extension": ".py",
   "mimetype": "text/x-python",
   "name": "python",
   "nbconvert_exporter": "python",
   "pygments_lexer": "ipython3",
   "version": "3.11.6"
  }
 },
 "nbformat": 4,
 "nbformat_minor": 2
}
