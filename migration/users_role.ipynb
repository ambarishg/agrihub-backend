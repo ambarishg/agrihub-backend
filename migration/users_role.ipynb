{
 "cells": [
  {
   "cell_type": "code",
   "execution_count": 1,
   "metadata": {},
   "outputs": [],
   "source": [
    "import sys\n",
    "sys.path.append(\"../\")"
   ]
  },
  {
   "cell_type": "code",
   "execution_count": 2,
   "metadata": {},
   "outputs": [],
   "source": [
    "from db.sqlite.sqlitehelper import SQLiteDatabaseHelper"
   ]
  },
  {
   "cell_type": "code",
   "execution_count": 3,
   "metadata": {},
   "outputs": [],
   "source": [
    "db = SQLiteDatabaseHelper(database_file=\"../bees.db\")"
   ]
  },
  {
   "cell_type": "code",
   "execution_count": 4,
   "metadata": {},
   "outputs": [],
   "source": [
    "SQL_QUERY = \"\"\"\n",
    "SELECT \n",
    "EMAIL_ADDRESS,\n",
    "ROLE_NAME,\n",
    "CREATED_BY,\n",
    "CREATED_AT,\n",
    "UPDATED_BY,\n",
    "UPDATED_AT\n",
    "FROM\n",
    "USERS_ROLE\n",
    "\"\"\""
   ]
  },
  {
   "cell_type": "code",
   "execution_count": 5,
   "metadata": {},
   "outputs": [
    {
     "name": "stdout",
     "output_type": "stream",
     "text": [
      "Connected to database: ../bees.db\n",
      "Fetched 10 rows.\n",
      "Connection closed.\n"
     ]
    }
   ],
   "source": [
    "db.connect()\n",
    "records = db.fetch_all(SQL_QUERY)\n",
    "db.close_connection()"
   ]
  },
  {
   "cell_type": "code",
   "execution_count": 6,
   "metadata": {},
   "outputs": [
    {
     "data": {
      "text/plain": [
       "[('ambarish.ganguly@gmail.com',\n",
       "  'USER',\n",
       "  'ADMIN',\n",
       "  '2025-01-01 16:37:23.453814',\n",
       "  'ADMIN',\n",
       "  '2025-01-01 16:37:23.453816'),\n",
       " ('a.ganguly@gmail.com',\n",
       "  'USER',\n",
       "  'ADMIN',\n",
       "  '2025-01-02 13:08:11.948582',\n",
       "  'ADMIN',\n",
       "  '2025-01-02 13:08:11.948584'),\n",
       " ('hank@wethebee.com',\n",
       "  'ADMIN',\n",
       "  'ADMIN',\n",
       "  '2025-01-04 00:16:53.774066',\n",
       "  'ADMIN',\n",
       "  '2025-01-04 01:10:59.178787'),\n",
       " ('drsvec@drsvec.com',\n",
       "  'USER',\n",
       "  'ADMIN',\n",
       "  '2025-01-05 12:50:24.613978',\n",
       "  'ADMIN',\n",
       "  '2025-01-05 12:50:24.613980'),\n",
       " ('junk@junk.com',\n",
       "  'USER',\n",
       "  'ADMIN',\n",
       "  '2025-01-11 14:43:12.033239',\n",
       "  'ADMIN',\n",
       "  '2025-01-11 14:43:12.033241'),\n",
       " ('dawn@mediatopia.ca',\n",
       "  'USER',\n",
       "  'ADMIN',\n",
       "  '2025-01-13 13:24:41.503743',\n",
       "  'ADMIN',\n",
       "  '2025-01-13 13:24:41.503744'),\n",
       " ('hank@wethebee.com',\n",
       "  'USER',\n",
       "  'ADMIN',\n",
       "  '2025-01-14 01:52:36.494036',\n",
       "  'ADMIN',\n",
       "  '2025-01-14 01:52:36.494038'),\n",
       " ('hank@wethebee.com',\n",
       "  'USER',\n",
       "  'ADMIN',\n",
       "  '2025-01-14 10:06:17.078250',\n",
       "  'ADMIN',\n",
       "  '2025-01-14 10:06:17.078255'),\n",
       " ('mary@wethebee.com',\n",
       "  'USER',\n",
       "  'ADMIN',\n",
       "  '2025-01-15 13:26:16.335001',\n",
       "  'ADMIN',\n",
       "  '2025-01-15 13:26:16.335003'),\n",
       " ('dawnstilwell7@gmail.com',\n",
       "  'USER',\n",
       "  'ADMIN',\n",
       "  '2025-01-18 17:54:31.586813',\n",
       "  'ADMIN',\n",
       "  '2025-01-18 17:54:31.586815')]"
      ]
     },
     "execution_count": 6,
     "metadata": {},
     "output_type": "execute_result"
    }
   ],
   "source": [
    "records"
   ]
  },
  {
   "cell_type": "code",
   "execution_count": 7,
   "metadata": {},
   "outputs": [],
   "source": [
    "INSERT_QUERY=\"\"\" \n",
    "    INSERT INTO USERS_ROLE\n",
    "    (\n",
    "    EMAIL_ADDRESS,\n",
    "    ROLE_NAME,\n",
    "    CREATED_BY,\n",
    "    CREATED_AT,\n",
    "    UPDATED_BY,\n",
    "    UPDATED_AT\n",
    "    )\n",
    "    VALUES (%s,%s,%s,%s,%s,%s)\n",
    "    \"\"\""
   ]
  },
  {
   "cell_type": "code",
   "execution_count": 8,
   "metadata": {},
   "outputs": [
    {
     "name": "stdout",
     "output_type": "stream",
     "text": [
      "False\n"
     ]
    }
   ],
   "source": [
    "from db.mysql.mysqlhelper import MySQLHelper\n",
    "from config.configs import CONFIGS\n",
    "db = MySQLHelper(host = CONFIGS.HOST,user = CONFIGS.USERNAME_MYSQL,\n",
    "                 password = CONFIGS.PASSWORD,database = \"BEES\")"
   ]
  },
  {
   "cell_type": "code",
   "execution_count": 9,
   "metadata": {},
   "outputs": [
    {
     "data": {
      "text/plain": [
       "('localhost', 'root')"
      ]
     },
     "execution_count": 9,
     "metadata": {},
     "output_type": "execute_result"
    }
   ],
   "source": [
    "CONFIGS.HOST,CONFIGS.USERNAME_MYSQL"
   ]
  },
  {
   "cell_type": "code",
   "execution_count": 10,
   "metadata": {},
   "outputs": [
    {
     "name": "stdout",
     "output_type": "stream",
     "text": [
      "('ambarish.ganguly@gmail.com', 'USER', 'ADMIN', '2025-01-01 16:37:23.453814', 'ADMIN', '2025-01-01 16:37:23.453816')\n",
      "('a.ganguly@gmail.com', 'USER', 'ADMIN', '2025-01-02 13:08:11.948582', 'ADMIN', '2025-01-02 13:08:11.948584')\n",
      "('hank@wethebee.com', 'ADMIN', 'ADMIN', '2025-01-04 00:16:53.774066', 'ADMIN', '2025-01-04 01:10:59.178787')\n",
      "('drsvec@drsvec.com', 'USER', 'ADMIN', '2025-01-05 12:50:24.613978', 'ADMIN', '2025-01-05 12:50:24.613980')\n",
      "('junk@junk.com', 'USER', 'ADMIN', '2025-01-11 14:43:12.033239', 'ADMIN', '2025-01-11 14:43:12.033241')\n",
      "('dawn@mediatopia.ca', 'USER', 'ADMIN', '2025-01-13 13:24:41.503743', 'ADMIN', '2025-01-13 13:24:41.503744')\n",
      "('hank@wethebee.com', 'USER', 'ADMIN', '2025-01-14 01:52:36.494036', 'ADMIN', '2025-01-14 01:52:36.494038')\n",
      "('hank@wethebee.com', 'USER', 'ADMIN', '2025-01-14 10:06:17.078250', 'ADMIN', '2025-01-14 10:06:17.078255')\n",
      "('mary@wethebee.com', 'USER', 'ADMIN', '2025-01-15 13:26:16.335001', 'ADMIN', '2025-01-15 13:26:16.335003')\n",
      "('dawnstilwell7@gmail.com', 'USER', 'ADMIN', '2025-01-18 17:54:31.586813', 'ADMIN', '2025-01-18 17:54:31.586815')\n"
     ]
    }
   ],
   "source": [
    "for record in records:\n",
    "    data = (record[0],\n",
    "        record[1],\n",
    "        record[2],\n",
    "       record[3],\n",
    "       record[4],\n",
    "       record[5]\n",
    "        )\n",
    "    print(record)"
   ]
  },
  {
   "cell_type": "code",
   "execution_count": 11,
   "metadata": {},
   "outputs": [
    {
     "name": "stdout",
     "output_type": "stream",
     "text": [
      "Connected to MySQL database\n"
     ]
    }
   ],
   "source": [
    "db.connect()"
   ]
  },
  {
   "cell_type": "code",
   "execution_count": 12,
   "metadata": {},
   "outputs": [],
   "source": [
    "for record in records:\n",
    "   data = (record[0],\n",
    "        record[1],\n",
    "        record[2],\n",
    "       record[3],\n",
    "       record[4],\n",
    "       record[5]\n",
    "        )\n",
    "   records = db.execute_query(INSERT_QUERY,data)\n",
    "   "
   ]
  },
  {
   "cell_type": "code",
   "execution_count": 13,
   "metadata": {},
   "outputs": [
    {
     "name": "stdout",
     "output_type": "stream",
     "text": [
      "MySQL connection is closed\n"
     ]
    }
   ],
   "source": [
    "db.close_connection()"
   ]
  },
  {
   "cell_type": "code",
   "execution_count": null,
   "metadata": {},
   "outputs": [],
   "source": []
  }
 ],
 "metadata": {
  "kernelspec": {
   "display_name": ".venv",
   "language": "python",
   "name": "python3"
  },
  "language_info": {
   "codemirror_mode": {
    "name": "ipython",
    "version": 3
   },
   "file_extension": ".py",
   "mimetype": "text/x-python",
   "name": "python",
   "nbconvert_exporter": "python",
   "pygments_lexer": "ipython3",
   "version": "3.11.6"
  }
 },
 "nbformat": 4,
 "nbformat_minor": 2
}
