{
 "cells": [
  {
   "cell_type": "code",
   "execution_count": 1,
   "metadata": {},
   "outputs": [],
   "source": [
    "import sys\n",
    "sys.path.append(\"../\")"
   ]
  },
  {
   "cell_type": "code",
   "execution_count": 2,
   "metadata": {},
   "outputs": [],
   "source": [
    "from db.sqlite.sqlitehelper import SQLiteDatabaseHelper"
   ]
  },
  {
   "cell_type": "code",
   "execution_count": 3,
   "metadata": {},
   "outputs": [],
   "source": [
    "db = SQLiteDatabaseHelper(database_file=\"../bees.db\")"
   ]
  },
  {
   "cell_type": "code",
   "execution_count": 4,
   "metadata": {},
   "outputs": [],
   "source": [
    "SQL_QUERY = \"\"\"\n",
    "SELECT \n",
    "USERNAME,\n",
    "PASSWORD,\n",
    "EMAIL_ADDRESS,\n",
    "CREATED_BY,\n",
    "CREATED_AT,\n",
    "UPDATED_BY,\n",
    "UPDATED_AT\n",
    "FROM\n",
    "USERS\n",
    "\"\"\""
   ]
  },
  {
   "cell_type": "code",
   "execution_count": 5,
   "metadata": {},
   "outputs": [
    {
     "name": "stdout",
     "output_type": "stream",
     "text": [
      "Connected to database: ../bees.db\n",
      "Fetched 10 rows.\n",
      "Connection closed.\n"
     ]
    }
   ],
   "source": [
    "db.connect()\n",
    "records = db.fetch_all(SQL_QUERY)\n",
    "db.close_connection()"
   ]
  },
  {
   "cell_type": "code",
   "execution_count": 6,
   "metadata": {},
   "outputs": [
    {
     "data": {
      "text/plain": [
       "[('Ambarish Ganguly',\n",
       "  'Ambarish@123456',\n",
       "  'ambarish.ganguly@gmail.com',\n",
       "  'ADMIN',\n",
       "  '2025-01-01 16:37:23.451097',\n",
       "  'ADMIN',\n",
       "  '2025-01-01 16:37:23.451101'),\n",
       " ('Aditya Ganguly',\n",
       "  'Ambarish@123456',\n",
       "  'a.ganguly@gmail.com',\n",
       "  'ADMIN',\n",
       "  '2025-01-02 13:08:11.946699',\n",
       "  'ADMIN',\n",
       "  '2025-01-02 13:08:11.946705'),\n",
       " ('Hank Svec',\n",
       "  'Hank@123456',\n",
       "  'hank@wethebee.com',\n",
       "  'ADMIN',\n",
       "  '2025-01-04 00:16:53.772577',\n",
       "  'ADMIN',\n",
       "  '2025-01-04 00:16:53.772583'),\n",
       " ('Hank',\n",
       "  'bay36463646',\n",
       "  'drsvec@drsvec.com',\n",
       "  'ADMIN',\n",
       "  '2025-01-05 12:50:24.612490',\n",
       "  'ADMIN',\n",
       "  '2025-01-05 12:50:24.612493'),\n",
       " ('Junk',\n",
       "  'junkjunk',\n",
       "  'junk@junk.com',\n",
       "  'ADMIN',\n",
       "  '2025-01-11 14:43:12.031545',\n",
       "  'ADMIN',\n",
       "  '2025-01-11 14:43:12.031549'),\n",
       " ('Dawn Stilwell',\n",
       "  'RogueMama77',\n",
       "  'dawn@mediatopia.ca',\n",
       "  'ADMIN',\n",
       "  '2025-01-13 13:24:41.501856',\n",
       "  'ADMIN',\n",
       "  '2025-01-13 13:24:41.501860'),\n",
       " ('Hank',\n",
       "  'Bay36463646',\n",
       "  'hank@wethebee.com',\n",
       "  'ADMIN',\n",
       "  '2025-01-14 01:52:36.492381',\n",
       "  'ADMIN',\n",
       "  '2025-01-14 01:52:36.492384'),\n",
       " ('Hank',\n",
       "  'Bay36463646',\n",
       "  'hank@wethebee.com',\n",
       "  'ADMIN',\n",
       "  '2025-01-14 10:06:17.076508',\n",
       "  'ADMIN',\n",
       "  '2025-01-14 10:06:17.076512'),\n",
       " ('Mary Svec',\n",
       "  'Adams@1957',\n",
       "  'mary@wethebee.com',\n",
       "  'ADMIN',\n",
       "  '2025-01-15 13:26:16.333206',\n",
       "  'ADMIN',\n",
       "  '2025-01-15 13:26:16.333209'),\n",
       " ('Dawn Stilwell',\n",
       "  'Rogue1967',\n",
       "  'dawnstilwell7@gmail.com',\n",
       "  'ADMIN',\n",
       "  '2025-01-18 17:54:31.585385',\n",
       "  'ADMIN',\n",
       "  '2025-01-18 17:54:31.585388')]"
      ]
     },
     "execution_count": 6,
     "metadata": {},
     "output_type": "execute_result"
    }
   ],
   "source": [
    "records"
   ]
  },
  {
   "cell_type": "code",
   "execution_count": 7,
   "metadata": {},
   "outputs": [],
   "source": [
    "INSERT_QUERY=\"\"\" \n",
    "    INSERT INTO USERS\n",
    "    (\n",
    "    USERNAME,\n",
    "    PASSWORD,\n",
    "    EMAIL_ADDRESS,\n",
    "    CREATED_BY,\n",
    "    CREATED_AT,\n",
    "    UPDATED_BY,\n",
    "    UPDATED_AT\n",
    "    )\n",
    "    VALUES (%s,%s,%s,%s,%s,%s,%s)\n",
    "    \"\"\""
   ]
  },
  {
   "cell_type": "code",
   "execution_count": 8,
   "metadata": {},
   "outputs": [
    {
     "name": "stdout",
     "output_type": "stream",
     "text": [
      "False\n"
     ]
    }
   ],
   "source": [
    "from db.mysql.mysqlhelper import MySQLHelper\n",
    "from config.configs import CONFIGS\n",
    "db = MySQLHelper(host = CONFIGS.HOST,user = CONFIGS.USERNAME_MYSQL,\n",
    "                 password = CONFIGS.PASSWORD,database = \"BEES\")"
   ]
  },
  {
   "cell_type": "code",
   "execution_count": 9,
   "metadata": {},
   "outputs": [
    {
     "data": {
      "text/plain": [
       "('localhost', 'root')"
      ]
     },
     "execution_count": 9,
     "metadata": {},
     "output_type": "execute_result"
    }
   ],
   "source": [
    "CONFIGS.HOST,CONFIGS.USERNAME_MYSQL"
   ]
  },
  {
   "cell_type": "code",
   "execution_count": 10,
   "metadata": {},
   "outputs": [
    {
     "name": "stdout",
     "output_type": "stream",
     "text": [
      "('Ambarish Ganguly', 'Ambarish@123456', 'ambarish.ganguly@gmail.com', 'ADMIN', '2025-01-01 16:37:23.451097', 'ADMIN', '2025-01-01 16:37:23.451101')\n",
      "('Aditya Ganguly', 'Ambarish@123456', 'a.ganguly@gmail.com', 'ADMIN', '2025-01-02 13:08:11.946699', 'ADMIN', '2025-01-02 13:08:11.946705')\n",
      "('Hank Svec', 'Hank@123456', 'hank@wethebee.com', 'ADMIN', '2025-01-04 00:16:53.772577', 'ADMIN', '2025-01-04 00:16:53.772583')\n",
      "('Hank', 'bay36463646', 'drsvec@drsvec.com', 'ADMIN', '2025-01-05 12:50:24.612490', 'ADMIN', '2025-01-05 12:50:24.612493')\n",
      "('Junk', 'junkjunk', 'junk@junk.com', 'ADMIN', '2025-01-11 14:43:12.031545', 'ADMIN', '2025-01-11 14:43:12.031549')\n",
      "('Dawn Stilwell', 'RogueMama77', 'dawn@mediatopia.ca', 'ADMIN', '2025-01-13 13:24:41.501856', 'ADMIN', '2025-01-13 13:24:41.501860')\n",
      "('Hank', 'Bay36463646', 'hank@wethebee.com', 'ADMIN', '2025-01-14 01:52:36.492381', 'ADMIN', '2025-01-14 01:52:36.492384')\n",
      "('Hank', 'Bay36463646', 'hank@wethebee.com', 'ADMIN', '2025-01-14 10:06:17.076508', 'ADMIN', '2025-01-14 10:06:17.076512')\n",
      "('Mary Svec', 'Adams@1957', 'mary@wethebee.com', 'ADMIN', '2025-01-15 13:26:16.333206', 'ADMIN', '2025-01-15 13:26:16.333209')\n",
      "('Dawn Stilwell', 'Rogue1967', 'dawnstilwell7@gmail.com', 'ADMIN', '2025-01-18 17:54:31.585385', 'ADMIN', '2025-01-18 17:54:31.585388')\n"
     ]
    }
   ],
   "source": [
    "for record in records:\n",
    "    data = (record[0],\n",
    "        record[1],\n",
    "        record[2],\n",
    "       record[3],\n",
    "       record[4],\n",
    "       record[5],\n",
    "       record[6]\n",
    "        )\n",
    "    print(record)"
   ]
  },
  {
   "cell_type": "code",
   "execution_count": 11,
   "metadata": {},
   "outputs": [
    {
     "name": "stdout",
     "output_type": "stream",
     "text": [
      "Connected to MySQL database\n"
     ]
    }
   ],
   "source": [
    "db.connect()"
   ]
  },
  {
   "cell_type": "code",
   "execution_count": 12,
   "metadata": {},
   "outputs": [],
   "source": [
    "for record in records:\n",
    "   data = (record[0],\n",
    "        record[1],\n",
    "        record[2],\n",
    "       record[3],\n",
    "       record[4],\n",
    "       record[5],\n",
    "       record[6]\n",
    "        )\n",
    "   records = db.execute_query(INSERT_QUERY,data)\n",
    "   "
   ]
  },
  {
   "cell_type": "code",
   "execution_count": 13,
   "metadata": {},
   "outputs": [
    {
     "name": "stdout",
     "output_type": "stream",
     "text": [
      "MySQL connection is closed\n"
     ]
    }
   ],
   "source": [
    "db.close_connection()"
   ]
  },
  {
   "cell_type": "code",
   "execution_count": null,
   "metadata": {},
   "outputs": [],
   "source": []
  }
 ],
 "metadata": {
  "kernelspec": {
   "display_name": ".venv",
   "language": "python",
   "name": "python3"
  },
  "language_info": {
   "codemirror_mode": {
    "name": "ipython",
    "version": 3
   },
   "file_extension": ".py",
   "mimetype": "text/x-python",
   "name": "python",
   "nbconvert_exporter": "python",
   "pygments_lexer": "ipython3",
   "version": "3.11.6"
  }
 },
 "nbformat": 4,
 "nbformat_minor": 2
}
