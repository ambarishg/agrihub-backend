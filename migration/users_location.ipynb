{
 "cells": [
  {
   "cell_type": "code",
   "execution_count": 1,
   "metadata": {},
   "outputs": [],
   "source": [
    "import sys\n",
    "sys.path.append(\"../\")"
   ]
  },
  {
   "cell_type": "code",
   "execution_count": 2,
   "metadata": {},
   "outputs": [],
   "source": [
    "from db.sqlite.sqlitehelper import SQLiteDatabaseHelper"
   ]
  },
  {
   "cell_type": "code",
   "execution_count": 3,
   "metadata": {},
   "outputs": [],
   "source": [
    "db = SQLiteDatabaseHelper(database_file=\"../bees.db\")"
   ]
  },
  {
   "cell_type": "code",
   "execution_count": 4,
   "metadata": {},
   "outputs": [],
   "source": [
    "SQL_QUERY = \"\"\"\n",
    "SELECT \n",
    "EMAIL_ADDRESS,\n",
    "LOCATION_NAME,\n",
    "CREATED_BY,\n",
    "CREATED_AT,\n",
    "UPDATED_BY,\n",
    "UPDATED_AT\n",
    "FROM\n",
    "USERS_LOCATION\n",
    "\"\"\""
   ]
  },
  {
   "cell_type": "code",
   "execution_count": 5,
   "metadata": {},
   "outputs": [
    {
     "name": "stdout",
     "output_type": "stream",
     "text": [
      "Connected to database: ../bees.db\n",
      "Fetched 13 rows.\n",
      "Connection closed.\n"
     ]
    }
   ],
   "source": [
    "db.connect()\n",
    "records = db.fetch_all(SQL_QUERY)\n",
    "db.close_connection()"
   ]
  },
  {
   "cell_type": "code",
   "execution_count": 6,
   "metadata": {},
   "outputs": [
    {
     "data": {
      "text/plain": [
       "[('ambarish.ganguly@gmail.com',\n",
       "  'Chatham',\n",
       "  'ADMIN',\n",
       "  '2025-01-01 16:37:23.455783',\n",
       "  'ADMIN',\n",
       "  '2025-01-01 16:37:23.455785'),\n",
       " ('a.ganguly@gmail.com',\n",
       "  'Kolkata',\n",
       "  'ADMIN',\n",
       "  '2025-01-02 13:08:11.949823',\n",
       "  'ADMIN',\n",
       "  '2025-01-02 13:08:11.949824'),\n",
       " ('hank@wethebee.com',\n",
       "  'Chatham',\n",
       "  'ADMIN',\n",
       "  '2025-01-04 00:16:53.775046',\n",
       "  'ADMIN',\n",
       "  '2025-01-04 00:16:53.775048'),\n",
       " ('hank@wethebee.com',\n",
       "  'Bleinhem',\n",
       "  'ADMIN',\n",
       "  '2025-01-04 00:16:53.776121',\n",
       "  'ADMIN',\n",
       "  '2025-01-04 00:16:53.776122'),\n",
       " ('hank@wethebee.com',\n",
       "  'Nova Scotia',\n",
       "  'ADMIN',\n",
       "  '2025-01-04 00:16:53.777127',\n",
       "  'ADMIN',\n",
       "  '2025-01-04 00:16:53.777129'),\n",
       " ('drsvec@drsvec.com',\n",
       "  'Wildflower Bee Farm Blenheim',\n",
       "  'ADMIN',\n",
       "  '2025-01-05 12:50:24.614987',\n",
       "  'ADMIN',\n",
       "  '2025-01-05 12:50:24.614988'),\n",
       " ('drsvec@drsvec.com',\n",
       "  'Bayswater NS',\n",
       "  'ADMIN',\n",
       "  '2025-01-05 12:50:24.615865',\n",
       "  'ADMIN',\n",
       "  '2025-01-05 12:50:24.615866'),\n",
       " ('junk@junk.com',\n",
       "  'Junk',\n",
       "  'ADMIN',\n",
       "  '2025-01-11 14:43:12.034155',\n",
       "  'ADMIN',\n",
       "  '2025-01-11 14:43:12.034157'),\n",
       " ('hank@wethebee.com',\n",
       "  'Blenheim',\n",
       "  'ADMIN',\n",
       "  '2025-01-14 01:52:36.495147',\n",
       "  'ADMIN',\n",
       "  '2025-01-14 01:52:36.495149'),\n",
       " ('hank@wethebee.com',\n",
       "  'Bayswater',\n",
       "  'ADMIN',\n",
       "  '2025-01-14 01:52:36.496220',\n",
       "  'ADMIN',\n",
       "  '2025-01-14 01:52:36.496222'),\n",
       " ('hank@wethebee.com',\n",
       "  'Blenheim',\n",
       "  'ADMIN',\n",
       "  '2025-01-14 10:06:17.079657',\n",
       "  'ADMIN',\n",
       "  '2025-01-14 10:06:17.079659'),\n",
       " ('hank@wethebee.com',\n",
       "  'Bayswater',\n",
       "  'ADMIN',\n",
       "  '2025-01-14 10:06:17.080802',\n",
       "  'ADMIN',\n",
       "  '2025-01-14 10:06:17.080805'),\n",
       " ('mary@wethebee.com',\n",
       "  'Blenheim',\n",
       "  'ADMIN',\n",
       "  '2025-01-15 13:26:16.336126',\n",
       "  'ADMIN',\n",
       "  '2025-01-15 13:26:16.336127')]"
      ]
     },
     "execution_count": 6,
     "metadata": {},
     "output_type": "execute_result"
    }
   ],
   "source": [
    "records"
   ]
  },
  {
   "cell_type": "code",
   "execution_count": 7,
   "metadata": {},
   "outputs": [],
   "source": [
    "INSERT_QUERY=\"\"\" \n",
    "    INSERT INTO USERS_LOCATION\n",
    "    (\n",
    "    EMAIL_ADDRESS,\n",
    "    LOCATION_NAME,\n",
    "    CREATED_BY,\n",
    "    CREATED_AT,\n",
    "    UPDATED_BY,\n",
    "    UPDATED_AT\n",
    "    )\n",
    "    VALUES (%s,%s,%s,%s,%s,%s)\n",
    "    \"\"\""
   ]
  },
  {
   "cell_type": "code",
   "execution_count": 8,
   "metadata": {},
   "outputs": [
    {
     "name": "stdout",
     "output_type": "stream",
     "text": [
      "False\n"
     ]
    }
   ],
   "source": [
    "from db.mysql.mysqlhelper import MySQLHelper\n",
    "from config.configs import CONFIGS\n",
    "db = MySQLHelper(host = CONFIGS.HOST,user = CONFIGS.USERNAME_MYSQL,\n",
    "                 password = CONFIGS.PASSWORD,database = \"BEES\")"
   ]
  },
  {
   "cell_type": "code",
   "execution_count": 9,
   "metadata": {},
   "outputs": [
    {
     "data": {
      "text/plain": [
       "('localhost', 'root')"
      ]
     },
     "execution_count": 9,
     "metadata": {},
     "output_type": "execute_result"
    }
   ],
   "source": [
    "CONFIGS.HOST,CONFIGS.USERNAME_MYSQL"
   ]
  },
  {
   "cell_type": "code",
   "execution_count": 10,
   "metadata": {},
   "outputs": [
    {
     "name": "stdout",
     "output_type": "stream",
     "text": [
      "('ambarish.ganguly@gmail.com', 'Chatham', 'ADMIN', '2025-01-01 16:37:23.455783', 'ADMIN', '2025-01-01 16:37:23.455785')\n",
      "('a.ganguly@gmail.com', 'Kolkata', 'ADMIN', '2025-01-02 13:08:11.949823', 'ADMIN', '2025-01-02 13:08:11.949824')\n",
      "('hank@wethebee.com', 'Chatham', 'ADMIN', '2025-01-04 00:16:53.775046', 'ADMIN', '2025-01-04 00:16:53.775048')\n",
      "('hank@wethebee.com', 'Bleinhem', 'ADMIN', '2025-01-04 00:16:53.776121', 'ADMIN', '2025-01-04 00:16:53.776122')\n",
      "('hank@wethebee.com', 'Nova Scotia', 'ADMIN', '2025-01-04 00:16:53.777127', 'ADMIN', '2025-01-04 00:16:53.777129')\n",
      "('drsvec@drsvec.com', 'Wildflower Bee Farm Blenheim', 'ADMIN', '2025-01-05 12:50:24.614987', 'ADMIN', '2025-01-05 12:50:24.614988')\n",
      "('drsvec@drsvec.com', 'Bayswater NS', 'ADMIN', '2025-01-05 12:50:24.615865', 'ADMIN', '2025-01-05 12:50:24.615866')\n",
      "('junk@junk.com', 'Junk', 'ADMIN', '2025-01-11 14:43:12.034155', 'ADMIN', '2025-01-11 14:43:12.034157')\n",
      "('hank@wethebee.com', 'Blenheim', 'ADMIN', '2025-01-14 01:52:36.495147', 'ADMIN', '2025-01-14 01:52:36.495149')\n",
      "('hank@wethebee.com', 'Bayswater', 'ADMIN', '2025-01-14 01:52:36.496220', 'ADMIN', '2025-01-14 01:52:36.496222')\n",
      "('hank@wethebee.com', 'Blenheim', 'ADMIN', '2025-01-14 10:06:17.079657', 'ADMIN', '2025-01-14 10:06:17.079659')\n",
      "('hank@wethebee.com', 'Bayswater', 'ADMIN', '2025-01-14 10:06:17.080802', 'ADMIN', '2025-01-14 10:06:17.080805')\n",
      "('mary@wethebee.com', 'Blenheim', 'ADMIN', '2025-01-15 13:26:16.336126', 'ADMIN', '2025-01-15 13:26:16.336127')\n"
     ]
    }
   ],
   "source": [
    "for record in records:\n",
    "    data = (record[0],\n",
    "        record[1],\n",
    "        record[2],\n",
    "       record[3],\n",
    "       record[4],\n",
    "       record[5]\n",
    "        )\n",
    "    print(record)"
   ]
  },
  {
   "cell_type": "code",
   "execution_count": 11,
   "metadata": {},
   "outputs": [
    {
     "name": "stdout",
     "output_type": "stream",
     "text": [
      "Connected to MySQL database\n"
     ]
    }
   ],
   "source": [
    "db.connect()"
   ]
  },
  {
   "cell_type": "code",
   "execution_count": 12,
   "metadata": {},
   "outputs": [],
   "source": [
    "for record in records:\n",
    "   data = (record[0],\n",
    "        record[1],\n",
    "        record[2],\n",
    "       record[3],\n",
    "       record[4],\n",
    "       record[5]\n",
    "        )\n",
    "   records = db.execute_query(INSERT_QUERY,data)\n",
    "   "
   ]
  },
  {
   "cell_type": "code",
   "execution_count": 13,
   "metadata": {},
   "outputs": [
    {
     "name": "stdout",
     "output_type": "stream",
     "text": [
      "MySQL connection is closed\n"
     ]
    }
   ],
   "source": [
    "db.close_connection()"
   ]
  },
  {
   "cell_type": "code",
   "execution_count": null,
   "metadata": {},
   "outputs": [],
   "source": []
  }
 ],
 "metadata": {
  "kernelspec": {
   "display_name": ".venv",
   "language": "python",
   "name": "python3"
  },
  "language_info": {
   "codemirror_mode": {
    "name": "ipython",
    "version": 3
   },
   "file_extension": ".py",
   "mimetype": "text/x-python",
   "name": "python",
   "nbconvert_exporter": "python",
   "pygments_lexer": "ipython3",
   "version": "3.11.6"
  }
 },
 "nbformat": 4,
 "nbformat_minor": 2
}
