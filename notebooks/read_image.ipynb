{
 "cells": [
  {
   "cell_type": "code",
   "execution_count": 1,
   "id": "2a2acc67",
   "metadata": {},
   "outputs": [],
   "source": [
    "import cv2"
   ]
  },
  {
   "cell_type": "code",
   "execution_count": 2,
   "id": "f1ead3cc",
   "metadata": {},
   "outputs": [],
   "source": [
    "file_path = '../data/Image_23.jpg'"
   ]
  },
  {
   "cell_type": "code",
   "execution_count": 3,
   "id": "67e2cced",
   "metadata": {},
   "outputs": [],
   "source": [
    "image = cv2.imread(file_path)\n",
    "image = cv2.cvtColor(image, cv2.COLOR_BGR2RGB)"
   ]
  },
  {
   "cell_type": "code",
   "execution_count": null,
   "id": "ac92c4d3",
   "metadata": {},
   "outputs": [],
   "source": []
  }
 ],
 "metadata": {
  "kernelspec": {
   "display_name": ".venv",
   "language": "python",
   "name": "python3"
  },
  "language_info": {
   "codemirror_mode": {
    "name": "ipython",
    "version": 3
   },
   "file_extension": ".py",
   "mimetype": "text/x-python",
   "name": "python",
   "nbconvert_exporter": "python",
   "pygments_lexer": "ipython3",
   "version": "3.11.6"
  }
 },
 "nbformat": 4,
 "nbformat_minor": 5
}
