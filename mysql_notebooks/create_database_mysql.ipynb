{
 "cells": [
  {
   "cell_type": "code",
   "execution_count": 1,
   "metadata": {},
   "outputs": [],
   "source": [
    "import sys\n",
    "sys.path.append(\"../\")"
   ]
  },
  {
   "cell_type": "code",
   "execution_count": 2,
   "metadata": {},
   "outputs": [
    {
     "name": "stdout",
     "output_type": "stream",
     "text": [
      "True\n"
     ]
    }
   ],
   "source": [
    "from db.mysql.mysqlhelper import MySQLHelper\n",
    "from config.configs import CONFIGS"
   ]
  },
  {
   "cell_type": "code",
   "execution_count": 3,
   "metadata": {},
   "outputs": [],
   "source": [
    "db = MySQLHelper(host = CONFIGS.HOST,user = CONFIGS.USERNAME_MYSQL,\n",
    "                 password = CONFIGS.PASSWORD,database = \"BEES\")"
   ]
  },
  {
   "cell_type": "code",
   "execution_count": 4,
   "metadata": {},
   "outputs": [
    {
     "name": "stdout",
     "output_type": "stream",
     "text": [
      "Connected to MySQL database\n",
      "MySQL connection is closed\n"
     ]
    }
   ],
   "source": [
    "SQL_QUERY = \"\"\" \n",
    "\n",
    "CREATE TABLE IF NOT EXISTS FILE_LOG\n",
    "(\n",
    "FILE_NAME VARCHAR(500),\n",
    "FILE_STATUS VARCHAR(500),\n",
    "ANNOTATED_FILE_PATH VARCHAR(500),\n",
    "RESULTS_FILE_PATH VARCHAR(500),\n",
    "USER_NAME VARCHAR(50),\n",
    "CREATED_BY VARCHAR(500),\n",
    "CREATED_AT DATETIME,\n",
    "UPDATED_BY VARCHAR(500),\n",
    "UPDATED_AT DATETIME\n",
    ")\n",
    "\n",
    "\"\"\"\n",
    "db.connect()\n",
    "records = db.execute_query(SQL_QUERY)\n",
    "db.close_connection()"
   ]
  },
  {
   "cell_type": "code",
   "execution_count": 5,
   "metadata": {},
   "outputs": [
    {
     "name": "stdout",
     "output_type": "stream",
     "text": [
      "Connected to MySQL database\n",
      "MySQL connection is closed\n"
     ]
    }
   ],
   "source": [
    "SQL_QUERY = \"\"\" \n",
    "\n",
    "CREATE TABLE IF NOT EXISTS USERS\n",
    "(\n",
    "USERNAME VARCHAR(500),\n",
    "PASSWORD VARCHAR(20),\n",
    "EMAIL_ADDRESS VARCHAR(200),\n",
    "CREATED_BY VARCHAR(20),\n",
    "CREATED_AT DATETIME,\n",
    "UPDATED_BY VARCHAR(20),\n",
    "UPDATED_AT DATETIME\n",
    ")\n",
    "\n",
    "\"\"\"\n",
    "db.connect()\n",
    "records = db.execute_query(SQL_QUERY)\n",
    "db.close_connection()"
   ]
  },
  {
   "cell_type": "code",
   "execution_count": 6,
   "metadata": {},
   "outputs": [
    {
     "name": "stdout",
     "output_type": "stream",
     "text": [
      "Connected to MySQL database\n",
      "MySQL connection is closed\n"
     ]
    }
   ],
   "source": [
    "SQL_QUERY = \"\"\" \n",
    "\n",
    "CREATE TABLE IF NOT EXISTS USERS_ROLE\n",
    "(\n",
    "EMAIL_ADDRESS VARCHAR(500),\n",
    "ROLE_NAME VARCHAR(500),\n",
    "CREATED_BY VARCHAR(500),\n",
    "CREATED_AT DATETIME,\n",
    "UPDATED_BY VARCHAR(500),\n",
    "UPDATED_AT DATETIME\n",
    ")\n",
    "\n",
    "\"\"\"\n",
    "db.connect()\n",
    "records = db.execute_query(SQL_QUERY)\n",
    "db.close_connection()"
   ]
  },
  {
   "cell_type": "code",
   "execution_count": 7,
   "metadata": {},
   "outputs": [
    {
     "name": "stdout",
     "output_type": "stream",
     "text": [
      "Connected to MySQL database\n",
      "MySQL connection is closed\n"
     ]
    }
   ],
   "source": [
    "SQL_QUERY = \"\"\" \n",
    "\n",
    "CREATE TABLE IF NOT EXISTS USERS_LOCATION\n",
    "(\n",
    "EMAIL_ADDRESS VARCHAR(500),\n",
    "LOCATION_NAME VARCHAR(500),\n",
    "CREATED_BY VARCHAR(500),\n",
    "CREATED_AT DATETIME,\n",
    "UPDATED_BY VARCHAR(500),\n",
    "UPDATED_AT DATETIME,\n",
    "FILE_DESCRIPTION VARCHAR(500),\n",
    "LOCATION VARCHAR(500)\n",
    ")\n",
    "\n",
    "\"\"\"\n",
    "db.connect()\n",
    "records = db.execute_query(SQL_QUERY)\n",
    "db.close_connection()"
   ]
  },
  {
   "cell_type": "code",
   "execution_count": null,
   "metadata": {},
   "outputs": [],
   "source": []
  }
 ],
 "metadata": {
  "kernelspec": {
   "display_name": ".venv",
   "language": "python",
   "name": "python3"
  },
  "language_info": {
   "codemirror_mode": {
    "name": "ipython",
    "version": 3
   },
   "file_extension": ".py",
   "mimetype": "text/x-python",
   "name": "python",
   "nbconvert_exporter": "python",
   "pygments_lexer": "ipython3",
   "version": "3.11.6"
  }
 },
 "nbformat": 4,
 "nbformat_minor": 2
}
