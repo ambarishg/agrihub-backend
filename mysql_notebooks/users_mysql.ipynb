{
 "cells": [
  {
   "cell_type": "code",
   "execution_count": 1,
   "metadata": {},
   "outputs": [
    {
     "name": "stdout",
     "output_type": "stream",
     "text": [
      "True\n"
     ]
    }
   ],
   "source": [
    "import sys\n",
    "sys.path.append(\"../\")\n",
    "import datetime\n",
    "\n",
    "from db.mysql.mysqlhelper import MySQLHelper\n",
    "from config.configs import CONFIGS\n",
    "db = MySQLHelper(host = CONFIGS.HOST,user = CONFIGS.USERNAME_MYSQL,\n",
    "                 password = CONFIGS.PASSWORD,database = \"BEES\")"
   ]
  },
  {
   "cell_type": "code",
   "execution_count": 2,
   "metadata": {},
   "outputs": [],
   "source": [
    "INSERT_QUERY=\"\"\" \n",
    "    INSERT INTO USERS\n",
    "    (\n",
    "    USERNAME,\n",
    "    PASSWORD,\n",
    "    EMAIL_ADDRESS,\n",
    "    CREATED_BY,\n",
    "    CREATED_AT,\n",
    "    UPDATED_BY,\n",
    "    UPDATED_AT\n",
    "    )\n",
    "    VALUES (%s,%s,%s,%s,%s,%s,%s)\n",
    "    \"\"\""
   ]
  },
  {
   "cell_type": "code",
   "execution_count": 3,
   "metadata": {},
   "outputs": [],
   "source": [
    "data = (\"Ambarish Ganguly\",\n",
    "        \"Ambarish@123456\",\n",
    "        \"ambarish.ganguly@gmail.com\",\n",
    "        \"ADMIN\",\n",
    "        datetime.datetime.now(),\n",
    "        \"ADMIN\",\n",
    "        datetime.datetime.now()\n",
    "        )"
   ]
  },
  {
   "cell_type": "code",
   "execution_count": 4,
   "metadata": {},
   "outputs": [
    {
     "name": "stdout",
     "output_type": "stream",
     "text": [
      "Connected to MySQL database\n",
      "MySQL connection is closed\n"
     ]
    }
   ],
   "source": [
    "db.connect()\n",
    "records = db.execute_query(INSERT_QUERY,data)\n",
    "db.close_connection()"
   ]
  },
  {
   "cell_type": "code",
   "execution_count": 5,
   "metadata": {},
   "outputs": [],
   "source": [
    "INSERT_QUERY=\"\"\" \n",
    "    INSERT INTO USERS_ROLE\n",
    "    (\n",
    "    EMAIL_ADDRESS,\n",
    "    ROLE_NAME,\n",
    "    CREATED_BY,\n",
    "    CREATED_AT,\n",
    "    UPDATED_BY,\n",
    "    UPDATED_AT\n",
    "    )\n",
    "    VALUES (%s,%s,%s,%s,%s,%s)\n",
    "    \"\"\""
   ]
  },
  {
   "cell_type": "code",
   "execution_count": 6,
   "metadata": {},
   "outputs": [],
   "source": [
    "data = (\"ambarish.ganguly@gmail.com\",\n",
    "        \"ADMIN\",\n",
    "        \"ADMIN\",\n",
    "        datetime.datetime.now(),\n",
    "        \"ADMIN\",\n",
    "        datetime.datetime.now()\n",
    "        )"
   ]
  },
  {
   "cell_type": "code",
   "execution_count": 7,
   "metadata": {},
   "outputs": [
    {
     "name": "stdout",
     "output_type": "stream",
     "text": [
      "Connected to MySQL database\n",
      "MySQL connection is closed\n"
     ]
    }
   ],
   "source": [
    "db.connect()\n",
    "records = db.execute_query(INSERT_QUERY,data)\n",
    "db.close_connection()"
   ]
  },
  {
   "cell_type": "code",
   "execution_count": 8,
   "metadata": {},
   "outputs": [],
   "source": [
    "INSERT_QUERY=\"\"\" \n",
    "    INSERT INTO USERS_LOCATION\n",
    "    (\n",
    "    EMAIL_ADDRESS,\n",
    "    LOCATION_NAME,\n",
    "    CREATED_BY,\n",
    "    CREATED_AT,\n",
    "    UPDATED_BY,\n",
    "    UPDATED_AT\n",
    "    )\n",
    "    VALUES (%s,%s,%s,%s,%s,%s)\n",
    "    \"\"\""
   ]
  },
  {
   "cell_type": "code",
   "execution_count": 9,
   "metadata": {},
   "outputs": [],
   "source": [
    "data = (\"ambarish.ganguly@gmail.com\",\n",
    "        \"CHATHAM\",\n",
    "        \"ADMIN\",\n",
    "        datetime.datetime.now(),\n",
    "        \"ADMIN\",\n",
    "        datetime.datetime.now()\n",
    "        )"
   ]
  },
  {
   "cell_type": "code",
   "execution_count": 10,
   "metadata": {},
   "outputs": [
    {
     "name": "stdout",
     "output_type": "stream",
     "text": [
      "Connected to MySQL database\n",
      "MySQL connection is closed\n"
     ]
    }
   ],
   "source": [
    "db.connect()\n",
    "records = db.execute_query(INSERT_QUERY,data)\n",
    "db.close_connection()"
   ]
  },
  {
   "cell_type": "code",
   "execution_count": null,
   "metadata": {},
   "outputs": [],
   "source": []
  }
 ],
 "metadata": {
  "kernelspec": {
   "display_name": ".venv",
   "language": "python",
   "name": "python3"
  },
  "language_info": {
   "codemirror_mode": {
    "name": "ipython",
    "version": 3
   },
   "file_extension": ".py",
   "mimetype": "text/x-python",
   "name": "python",
   "nbconvert_exporter": "python",
   "pygments_lexer": "ipython3",
   "version": "3.11.6"
  }
 },
 "nbformat": 4,
 "nbformat_minor": 2
}
